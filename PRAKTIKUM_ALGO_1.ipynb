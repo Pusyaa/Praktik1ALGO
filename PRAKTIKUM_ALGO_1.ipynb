{
  "nbformat": 4,
  "nbformat_minor": 0,
  "metadata": {
    "colab": {
      "provenance": []
    },
    "kernelspec": {
      "name": "python3",
      "display_name": "Python 3"
    },
    "language_info": {
      "name": "python"
    }
  },
  "cells": [
    {
      "cell_type": "code",
      "source": [
        "#Latihan 1\n",
        "Name = input('Masukkan Nama : ')\n",
        "NIM = input('Masukka NIM : ')\n",
        "Hobi = input('Masukkan Hobimu : ')\n",
        "Alamat = input('Masukkan alamat mu : ')\n",
        "print('Nama Saya', Name)\n",
        "print('NIM Saya', NIM)\n",
        "print('Hobi Saya adalah', Hobi)\n",
        "print('Rumah Saya ada di', Alamat)\n"
      ],
      "metadata": {
        "colab": {
          "base_uri": "https://localhost:8080/"
        },
        "id": "wX_pOne_az_F",
        "outputId": "41e611f8-9d38-4e8e-fb51-bca35265265a"
      },
      "execution_count": null,
      "outputs": [
        {
          "output_type": "stream",
          "name": "stdout",
          "text": [
            "Masukkan Nama : Putra Ferdiansyah R\n",
            "Masukka NIM : 064102400021\n",
            "Masukkan Hobimu : Sepatu Roda\n",
            "Masukkan alamat mu : Jl.Peninggaran Barat\n",
            "Nama Saya Putra Ferdiansyah R\n",
            "NIM Saya 064102400021\n",
            "Hobi Saya adalah Sepatu Roda\n",
            "Rumah Saya ada di Jl.Peninggaran Barat\n"
          ]
        }
      ]
    },
    {
      "cell_type": "code",
      "source": [
        "#Latihan 2\n",
        "panjang = int(input(\"Masukkan panjang ruangan : \"))\n",
        "lebar = int(input(\"Masukkan lebar ruangan : \"))\n",
        "satuan = input(\"Masukkan satuan (M/Inch) : \")\n",
        "\n",
        "luas = panjang * lebar\n",
        "\n",
        "if satuan == \"M\":\n",
        "    print(f\"Luas ruangan ini adalah {luas} meter persegi.\")\n",
        "elif satuan == \"Inch\":\n",
        "    print(f\"Luas ruangan ini adalah {luas} inci persegi.\")\n",
        "else:\n",
        "    print(\"Satuan yang dimasukkan tidak valid.\")\n"
      ],
      "metadata": {
        "colab": {
          "base_uri": "https://localhost:8080/"
        },
        "id": "baTIys03Ht1A",
        "outputId": "232c2925-aaa1-41ac-8f91-79c7a9cfc7b0"
      },
      "execution_count": 1,
      "outputs": [
        {
          "output_type": "stream",
          "name": "stdout",
          "text": [
            "Masukkan panjang ruangan: 70\n",
            "Masukkan lebar ruangan: 70\n",
            "Masukkan satuan (M/Inch): Inch\n",
            "Luas ruangan adalah 4900 inci persegi.\n"
          ]
        }
      ]
    }
  ]
}